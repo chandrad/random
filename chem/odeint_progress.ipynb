{
 "cells": [
  {
   "cell_type": "markdown",
   "metadata": {},
   "source": [
    "I made some changes for the data visualization plots using pacakge [seaborn](http://stanford.edu/~mwaskom/software/seaborn/) which runs on top of matplotlib"
   ]
  },
  {
   "cell_type": "markdown",
   "metadata": {},
   "source": [
    "###Observation:##\n",
    "Sometimes while running the function you may encounter overflow error beacuse it taking infinity as follows: \n",
    "`OverflowError: cannot convert float infinity to integer`."
   ]
  },
  {
   "cell_type": "code",
   "execution_count": 37,
   "metadata": {
    "collapsed": false
   },
   "outputs": [],
   "source": [
    "#Importing the required library:\n",
    "\n",
    "import numpy as np\n",
    "import matplotlib.pyplot as plt\n",
    "from scipy.integrate import odeint\n",
    "import math\n",
    "\n",
    "%matplotlib inline\n",
    "\n",
    "np.random.seed(211) # setting the random seed to reproduce the same result you can set any random seed\n",
    "\n",
    "import seaborn as sns; sns.set() #Beautiful visualization library\n",
    "\n",
    "\n",
    "#Input Data\n",
    "\n",
    "maA1 = 10**5 # Pre-exponential factor reaction 1 [m3/kmol/s]\n",
    "mpA2 = 10**10 # Pre-exponential factor reaction 2[m3/kmol/s]\n",
    "E1perR = 11300 # Activation temperature reaction 1 [K]\n",
    "E2perR = 12000 # Activation tempetature reaction 2 [K]\n",
    "m1 = 6.6 # Hammett's reaction rate coeff. reaction 1\n",
    "m2 = 2.2 # Hammett's reaction rate coeff. reaction 2\n",
    "RhoOctan = 820.7 # Density of 2-octanol [kg/m3]\n",
    "MwOctan = 130.23 # Molar mass of 2-octanol [kg/kmol]\n",
    "Mw = 63 # Molar mass of HNO3 [kg/kmol]\n",
    "RhoAcid = 1500 # Density of pure nitric acid [kg/m3]\n",
    "RhoCPdos = 2 * 10 ** 6 # Heat capacity of dose [J/m3/K]\n",
    "Tdos = 293.15 # Temperature of feed dose [K]\n",
    "Hnol = 160 * 10 ** 6 # Specific heat of reaction 1 [J/kmol]\n",
    "Hnone = 520 * 10 ** 6 # Specific heat of reaction 2 [J/kmole]\n",
    "RhoCoolant = 1000 # The density of coolant [kg/m3]\n",
    "CpCoolant = 4183 # Heat capacity of coolant [J/kg/K]\n",
    "Vj = 1.5 # Volume of the jacket [m3]\n",
    "\n",
    "\n",
    "#Initial Data\n",
    "\n",
    "t_0 = 0.0001 # Starting time\n",
    "Np_0 = 0 # Number of moles of 2-octanone (P) at t = t0\n",
    "Nx_0 = 0 # Number of moles of carboxylic acids (X) at t = t0\n",
    "Vr0 = 1.5 # Initial volume in a reactor [m3]\n",
    "Y = 0.035 # Initial concentr. of nitrosonium ion Y=Nb0/NaF\n",
    "Percent = 0.6 # Initial mass concentr of nitr. acid sol. [%]\n",
    "Tr_0 = 260 # Temp. in the reactor at t = t0 (K)\n",
    "Gamma0 = 5.4 * 10 ** 6 # Initial heat capacity of the system [J/K]\n",
    "UA0 = 1500 # Initial cool. surface heat trans. coeff.[W/K]\n",
    "Tcool_0 = 273.15 # Coolant exit temp. at t = t0 (K)\n",
    "Tcool_IN = 260 # Initial coolant temperature [K]\n",
    "\n",
    "#Final Data\n",
    "\n",
    "tf = 72000 # Final time (s)\n",
    "Vdos1 = 0.6 # Final volume of the dose [m3]\n",
    "tdos = 36000 # dosing time [s], 10h\n",
    "UA1 = 2100 # Final cool. surface heat trans. coeff. [W/K]\n",
    "\n",
    "\n",
    "# Equations\n",
    "\n",
    "\n",
    "def Mymodel(y,t):\n",
    "    NnO = Vr0 * Percent * RhoAcid / float(Mw) # Initial number of mole of HNO3 [kmole]\n",
    "    wt = NnO * Mw / float(Vr0 * RhoAcid) # Mass concentr. of nitric acid sol [%/100%]\n",
    "    H = -0.6221 - 3.7214 * wt - 1.5714 * wt ** 2 # Hammett's acidity function\n",
    "    Epsd = Vdos1/float(Vdos1+Vr0) # Volume fraction of dispersed phase\n",
    "    NaF = (Vdos1 * RhoOctan) / float(MwOctan) # Total amount of 2-octanol (a) fed [kmol]\n",
    "    tdos = 3600\n",
    "    if t in range(0,3600):\n",
    "        Theta = t / float(tdos)\n",
    "    else:\n",
    "        Theta=1  # Dimensionless time up to t=tdos\n",
    "    CaOrg = (Theta * NaF - y[0] - y[1]) / float(Vdos1 * Theta) # Concentr of a in org phase [kmole/m3]\n",
    "    CpOrg = y[0] / float(Vdos1 * Theta) # Concentr. of (P) in org phase [kmol/m3]\n",
    "    CbAq = (y[0] + Y * NaF) /float(Vr0) # Concentr. of (B) in aq. phase [kmole/m3]\n",
    "    Fw = 100 / 60 * 10 ^ (-3)\n",
    "    NaF = (Vdos1 * RhoOctan) / float(MwOctan) # Total amount of 2-octanol (a) fed [kmol]\n",
    "    CnAq = (NnO - Y * NaF - y[0] - 2 * y[1]) / float(Vr0) # Concentr. of HNO3 in the aq. phase [kmol/m3]\n",
    "    k1 = (maA1)*(math.e)**(-E1perR /float( y[2] - (m1*H))) # Specific reaction rate 1\n",
    "    k2 = (mpA2)*(math.e)**(-E2perR /float(y[2] - (m2*H))) # Specific reaction rate 2 \n",
    "    r1 = k1*CaOrg*CbAq*(1-Epsd) # Reaction rate of a and b to p[kmol/m3/s]\n",
    "    r2 = k2*CpOrg*CbAq*(1-Epsd) # Reaction rate of p and b to x[kmol/m3/s]\n",
    "    dy0 = (r1-r2)*Vr0/(float(1-Epsd))\n",
    "    dy1 = (r1 * Vr0 / float(1 -Epsd))\n",
    "    Phi = Vdos1 / tdos # Volumetric flow rate of the feed [m3/s]\n",
    "    Qdos = Phi * RhoCPdos * (Tdos - y[2]) # Heat input due to reactant addition [W]\n",
    "    UAcool = UA0 + (UA1 - UA0) * Theta # Cooling surface heat transfer coefficient [W/K]\n",
    "    Qcool = UAcool * (y[3] - y[2]) # Heat removed by the cooling jacket [W]\n",
    "    Gamma = Gamma0 + RhoCPdos * Phi * t # Total heat capacity of the system [J/K]\n",
    "    Qnol = r1 * Vr0 * Hnol / float(1 - Epsd) # Heat of reaction, 1  [W]\n",
    "    Qnone = r2 * Vr0 * Hnone / float(1 - Epsd) # Heat of reaction, 2 [W]\n",
    "    Qr = Qnol + Qnone # Sum of the heat of reaction the reactions [W)\n",
    "    dy2 = (Qr + Qdos + Qcool) / float(Gamma)  #Reactor energy balance (Tr in K)\n",
    "    dy3 = (Fw * (Tcool_IN - y[3]) - Qcool / float(RhoCoolant * CpCoolant)) / float(Vj)  #Jacket energy balance (T in K)\n",
    "    return[dy0, dy1, dy2, dy3]\n",
    "\n",
    "#Input Data\n",
    "\n",
    "maA1 = 10**5 # Pre-exponential factor reaction 1 [m3/kmol/s]\n",
    "mpA2 = 10**10 # Pre-exponential factor reaction 2[m3/kmol/s]\n",
    "E1perR = 11300 # Activation temperature reaction 1 [K]\n",
    "E2perR = 12000 # Activation tempetature reaction 2 [K]\n",
    "m1 = 6.6 # Hammett's reaction rate coeff. reaction 1\n",
    "m2 = 2.2 # Hammett's reaction rate coeff. reaction 2\n",
    "RhoOctan = 820.7 # Density of 2-octanol [kg/m3]\n",
    "MwOctan = 130.23 # Molar mass of 2-octanol [kg/kmol]\n",
    "Mw = 63 # Molar mass of HNO3 [kg/kmol]\n",
    "RhoAcid = 1500 # Density of pure nitric acid [kg/m3]\n",
    "RhoCPdos = 2 * 10 ** 6 # Heat capacity of dose [J/m3/K]\n",
    "Tdos = 293.15 # Temperature of feed dose [K]\n",
    "Hnol = 160 * 10 ** 6 # Specific heat of reaction 1 [J/kmol]\n",
    "Hnone = 520 * 10 ** 6 # Specific heat of reaction 2 [J/kmole]\n",
    "RhoCoolant = 1000 # The density of coolant [kg/m3]\n",
    "CpCoolant = 4183 # Heat capacity of coolant [J/kg/K]\n",
    "Vj = 1.5 # Volume of the jacket [m3]\n",
    "\n",
    "\n",
    "#Initial Data\n",
    "\n",
    "t_0 = 0.0001 # Starting time\n",
    "Np_0 = 0 # Number of moles of 2-octanone (P) at t = t0\n",
    "Nx_0 = 0 # Number of moles of carboxylic acids (X) at t = t0\n",
    "Vr0 = 1.5 # Initial volume in a reactor [m3]\n",
    "Y = 0.035 # Initial concentr. of nitrosonium ion Y=Nb0/NaF\n",
    "Percent = 0.6 # Initial mass concentr of nitr. acid sol. [%]\n",
    "Tr_0 = 260 # Temp. in the reactor at t = t0 (K)\n",
    "Gamma0 = 5.4 * 10 ** 6 # Initial heat capacity of the system [J/K]\n",
    "UA0 = 1500 # Initial cool. surface heat trans. coeff.[W/K]\n",
    "Tcool_0 = 273.15 # Coolant exit temp. at t = t0 (K)\n",
    "Tcool_IN = 260 # Initial coolant temperature [K]\n",
    "\n",
    "#Final Data\n",
    "\n",
    "tf = 72000 # Final time (s)\n",
    "Vdos1 = 0.6 # Final volume of the dose [m3]\n",
    "tdos = 36000 # dosing time [s], 10h\n",
    "UA1 = 2100 # Final cool. surface heat trans. coeff. [W/K]\n"
   ]
  },
  {
   "cell_type": "markdown",
   "metadata": {},
   "source": [
    "Here I am defining the main() function:"
   ]
  },
  {
   "cell_type": "code",
   "execution_count": 47,
   "metadata": {
    "collapsed": true
   },
   "outputs": [],
   "source": [
    "def main():\n",
    "    # initial values of y0,y1,y2,y3 at t=0\n",
    "    yinit = [0.0,0.0,260,273.15]\n",
    "    # Times at which the solution is to be computed.\n",
    "    t = np.linspace(0.0001, tf, 10000)\n",
    "    # Solve the equation.\n",
    "    y = odeint(Mymodel, yinit , t)\n",
    "    print 'printing the y array: ', y\n",
    "    print 'printing the dimension of the array y: ', y.shape\n",
    "    print 'printing the system y3: ', y[:,3]\n",
    "    f, axarr = plt.subplots(2, 2)\n",
    "    axarr[0, 0].plot(t, y[:,0])\n",
    "    axarr[0, 0].set_title('t vs y0')\n",
    "    axarr[0, 1].scatter(t, y[:,1])\n",
    "    axarr[0, 1].set_title('t vs y1')\n",
    "    axarr[1, 0].plot(t, y[:,2])\n",
    "    axarr[1, 0].set_title('t vs y2')\n",
    "    axarr[1, 1].scatter(t, y[:,3])\n",
    "    axarr[1, 1].set_title('t vs y3')\n",
    "    \n",
    "    #astack = np.c_[t, y[:,0],y[:,1],y[:,2],y[:,3]]\n",
    "    #np.savetxt('approx_1.csv',astack, delimiter=',', header= )"
   ]
  },
  {
   "cell_type": "code",
   "execution_count": 48,
   "metadata": {
    "collapsed": false
   },
   "outputs": [
    {
     "name": "stdout",
     "output_type": "stream",
     "text": [
      "printing the y array:  [[  0.00000000e+000   0.00000000e+000   2.60000000e+002   2.73150000e+002]\n",
      " [  3.25985264e-009   3.78115642e+000   4.03492709e+003   5.09056960e+007]\n",
      " [  2.88029802e+001   2.26159834e+006   3.60037003e+001   4.37159986e-076]\n",
      " ..., \n",
      " [  1.37143717e-224   1.56670979e+004  -6.11874119e-269  -1.46891604e-267]\n",
      " [ -1.48597285e-267  -2.67144297e+041  -2.75314633e-189   2.63816095e-108]\n",
      " [              nan   1.70575877e+063   1.11678969e+021               nan]]\n",
      "printing the dimension of the array y:  (10000L, 4L)\n",
      "printing the system y3:  [  2.73150000e+002   5.09056960e+007   4.37159986e-076 ...,\n",
      "  -1.46891604e-267   2.63816095e-108               nan]\n"
     ]
    },
    {
     "data": {
      "image/png": "[encoded data removed]",
      "text/plain": [
       "<matplotlib.figure.Figure at 0x20b4ad30>"
      ]
     },
     "metadata": {},
     "output_type": "display_data"
    }
   ],
   "source": [
    "if __name__==\"__main__\":\n",
    "    main()"
   ]
  },
  {
   "cell_type": "code",
   "execution_count": 42,
   "metadata": {
    "collapsed": true
   },
   "outputs": [],
   "source": [
    "# Another visualization\n",
    "def main1():\n",
    "    # initial values of y0,y1,y2,y3 at t=0\n",
    "    yinit = [0.0,0.0,260,273.15]\n",
    "    # Times at which the solution is to be computed.\n",
    "    t = np.linspace(0.0001, tf, 10000)\n",
    "    # Solve the equation.\n",
    "    y = odeint(Mymodel, yinit , t)\n",
    "    plt.plot(t, y[:,2])\n",
    "    plt.xlabel('t')\n",
    "    plt.ylabel('y2')\n",
    "    plt.show()\n",
    "    \n",
    "    #astack = np.c_[t, y[:,0],y[:,1],y[:,2],y[:,3]]\n",
    "    #np.savetxt('approx_1.csv',astack, delimiter=',', header= )"
   ]
  },
  {
   "cell_type": "code",
   "execution_count": 46,
   "metadata": {
    "collapsed": false
   },
   "outputs": [
    {
     "data": {
      "image/png": "[encoded data removed]",
      "text/plain": [
       "<matplotlib.figure.Figure at 0x218becc0>"
      ]
     },
     "metadata": {},
     "output_type": "display_data"
    }
   ],
   "source": [
    "if __name__==\"__main__\":\n",
    "    main1()"
   ]
  }
 ],
 "metadata": {
  "kernelspec": {
   "display_name": "Python 2",
   "language": "python",
   "name": "python2"
  },
  "language_info": {
   "codemirror_mode": {
    "name": "ipython",
    "version": 2
   },
   "file_extension": ".py",
   "mimetype": "text/x-python",
   "name": "python",
   "nbconvert_exporter": "python",
   "pygments_lexer": "ipython2",
   "version": "2.7.10"
  }
 },
 "nbformat": 4,
 "nbformat_minor": 0
}
