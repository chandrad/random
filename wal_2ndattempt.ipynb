{
 "cells": [
  {
   "cell_type": "code",
   "execution_count": 1,
   "metadata": {
    "collapsed": false
   },
   "outputs": [
    {
     "name": "stdout",
     "output_type": "stream",
     "text": [
      "Once deleted, variables cannot be recovered. Proceed (y/[n])? y\n"
     ]
    }
   ],
   "source": [
    "%reset"
   ]
  },
  {
   "cell_type": "code",
   "execution_count": 2,
   "metadata": {
    "collapsed": false
   },
   "outputs": [
    {
     "name": "stdout",
     "output_type": "stream",
     "text": [
      "Installed watermark.py. To use it, type:\n",
      "  %load_ext watermark\n"
     ]
    }
   ],
   "source": [
    "%install_ext https://raw.githubusercontent.com/rasbt/watermark/master/watermark.py"
   ]
  },
  {
   "cell_type": "code",
   "execution_count": 3,
   "metadata": {
    "collapsed": true
   },
   "outputs": [],
   "source": [
    "%load_ext watermark"
   ]
  },
  {
   "cell_type": "code",
   "execution_count": 4,
   "metadata": {
    "collapsed": false
   },
   "outputs": [
    {
     "name": "stdout",
     "output_type": "stream",
     "text": [
      "Chandra I am using Python 3.4 10/05/2015 \n",
      "\n",
      "CPython 3.4.1\n",
      "IPython 3.1.0\n",
      "\n",
      "compiler   : MSC v.1600 64 bit (AMD64)\n",
      "system     : Windows\n",
      "release    : 7\n",
      "machine    : AMD64\n",
      "processor  : Intel64 Family 6 Model 42 Stepping 7, GenuineIntel\n",
      "CPU cores  : 8\n",
      "interpreter: 64bit\n"
     ]
    }
   ],
   "source": [
    "%watermark -a \"Chandra I am using Python 3.4\" -d -v -m"
   ]
  },
  {
   "cell_type": "code",
   "execution_count": 5,
   "metadata": {
    "collapsed": true
   },
   "outputs": [],
   "source": [
    "import pandas as pd\n",
    "import subprocess\n",
    "import os\n",
    "from datetime import date\n",
    "from datetime import timedelta\n",
    "import numpy as np\n",
    "import sys\n",
    "from sklearn.linear_model import ElasticNet\n",
    "from collections import OrderedDict\n",
    "from sklearn.neighbors.kde import KernelDensity"
   ]
  },
  {
   "cell_type": "code",
   "execution_count": 6,
   "metadata": {
    "collapsed": false
   },
   "outputs": [],
   "source": [
    "import brewer2mpl\n",
    "import matplotlib.pyplot as plt\n",
    "import random\n",
    "from sklearn.cross_validation import KFold"
   ]
  },
  {
   "cell_type": "code",
   "execution_count": 7,
   "metadata": {
    "collapsed": false
   },
   "outputs": [],
   "source": [
    "pd.set_option('display.max_columns', 100)\n",
    "plt.style.use('ggplot')\n",
    "%matplotlib inline"
   ]
  },
  {
   "cell_type": "markdown",
   "metadata": {},
   "source": [
    "# Initial Problem:\n",
    "    "
   ]
  },
  {
   "cell_type": "markdown",
   "metadata": {},
   "source": [
    "* Objective: Predict units sold given a date (and associated weather), store and item number\n",
    "* Units are Weather-sensitive items\n",
    "* Test Set + Training Set is a 3 year span of sales for Walmart\n",
    "   * Test set includes days within $\\pm$ 3 days of a major Storm, which we'll call \"stormy days\"\n",
    "   * Test set includes only days within the final year(?)\n",
    "   * Test set is not all stormy days in that time period\n",
    "   * Training set is all remaining days\n",
    "* Other issues:\n",
    "   * There are some missing values in weather, indicated by 'M' (there are also \"trace\" amounts indicated by 'T'. These need to  be  filled on (with imputation if yes what logic?).\n",
    "   * The test set and training set are fundamentally different. The training set includes days not qualified as \"stormy days\" whereas the test set does not.\n",
    "   * There may be other trends such as time.\n",
    "   * we are unable to track items across different stores, because item numbers are randomized for each store."
   ]
  },
  {
   "cell_type": "markdown",
   "metadata": {},
   "source": [
    "### Overview:"
   ]
  },
  {
   "cell_type": "markdown",
   "metadata": {},
   "source": [
    "* View datasets\n",
    "* Analysis of missingness ('M' and 'T' values)\n",
    "* Imputation using split-apply-combine techniques\n",
    "* Categorize stormy days\n",
    "* Look at sales trends by store, item, date (dataviz)\n",
    "* Inspect 0-sales day\n",
    "* Build features\n",
    "* Run Models"
   ]
  },
  {
   "cell_type": "markdown",
   "metadata": {},
   "source": [
    "#### Go to the Current Working Directory"
   ]
  },
  {
   "cell_type": "code",
   "execution_count": 8,
   "metadata": {
    "collapsed": false
   },
   "outputs": [
    {
     "data": {
      "text/plain": [
       "'C:\\\\Users\\\\cdron\\\\Desktop\\\\Cleanup\\\\Misc\\\\kaggle\\\\Walmart_Weather'"
      ]
     },
     "execution_count": 8,
     "metadata": {},
     "output_type": "execute_result"
    }
   ],
   "source": [
    "import os \n",
    "os.chdir(r\"C:\\Users\\cdron\\Desktop\\Cleanup\\Misc\\kaggle\\Walmart_Weather\")\n",
    "os.getcwd()"
   ]
  },
  {
   "cell_type": "markdown",
   "metadata": {},
   "source": [
    "## As a first logical step lets look at the features of the data we have to work with..."
   ]
  },
  {
   "cell_type": "code",
   "execution_count": 9,
   "metadata": {
    "collapsed": false
   },
   "outputs": [
    {
     "name": "stdout",
     "output_type": "stream",
     "text": [
      "(20517, 20)\n"
     ]
    },
    {
     "data": {
      "text/html": [
       "<div style=\"max-height:1000px;max-width:1500px;overflow:auto;\">\n",
       "<table border=\"1\" class=\"dataframe\">\n",
       "  <thead>\n",
       "    <tr style=\"text-align: right;\">\n",
       "      <th></th>\n",
       "      <th>station_nbr</th>\n",
       "      <th>date</th>\n",
       "      <th>tmax</th>\n",
       "      <th>tmin</th>\n",
       "      <th>tavg</th>\n",
       "      <th>depart</th>\n",
       "      <th>dewpoint</th>\n",
       "      <th>wetbulb</th>\n",
       "      <th>heat</th>\n",
       "      <th>cool</th>\n",
       "      <th>sunrise</th>\n",
       "      <th>sunset</th>\n",
       "      <th>codesum</th>\n",
       "      <th>snowfall</th>\n",
       "      <th>preciptotal</th>\n",
       "      <th>stnpressure</th>\n",
       "      <th>sealevel</th>\n",
       "      <th>resultspeed</th>\n",
       "      <th>resultdir</th>\n",
       "      <th>avgspeed</th>\n",
       "    </tr>\n",
       "  </thead>\n",
       "  <tbody>\n",
       "    <tr>\n",
       "      <th>0</th>\n",
       "      <td>1</td>\n",
       "      <td>2012-01-01</td>\n",
       "      <td>52</td>\n",
       "      <td>31</td>\n",
       "      <td>42</td>\n",
       "      <td>M</td>\n",
       "      <td>36</td>\n",
       "      <td>40</td>\n",
       "      <td>23</td>\n",
       "      <td>0</td>\n",
       "      <td>-</td>\n",
       "      <td>-</td>\n",
       "      <td>RA FZFG BR</td>\n",
       "      <td>M</td>\n",
       "      <td>0.05</td>\n",
       "      <td>29.78</td>\n",
       "      <td>29.92</td>\n",
       "      <td>3.6</td>\n",
       "      <td>20</td>\n",
       "      <td>4.6</td>\n",
       "    </tr>\n",
       "    <tr>\n",
       "      <th>1</th>\n",
       "      <td>2</td>\n",
       "      <td>2012-01-01</td>\n",
       "      <td>48</td>\n",
       "      <td>33</td>\n",
       "      <td>41</td>\n",
       "      <td>16</td>\n",
       "      <td>37</td>\n",
       "      <td>39</td>\n",
       "      <td>24</td>\n",
       "      <td>0</td>\n",
       "      <td>0716</td>\n",
       "      <td>1626</td>\n",
       "      <td>RA</td>\n",
       "      <td>0.0</td>\n",
       "      <td>0.07</td>\n",
       "      <td>28.82</td>\n",
       "      <td>29.91</td>\n",
       "      <td>9.1</td>\n",
       "      <td>23</td>\n",
       "      <td>11.3</td>\n",
       "    </tr>\n",
       "    <tr>\n",
       "      <th>2</th>\n",
       "      <td>3</td>\n",
       "      <td>2012-01-01</td>\n",
       "      <td>55</td>\n",
       "      <td>34</td>\n",
       "      <td>45</td>\n",
       "      <td>9</td>\n",
       "      <td>24</td>\n",
       "      <td>36</td>\n",
       "      <td>20</td>\n",
       "      <td>0</td>\n",
       "      <td>0735</td>\n",
       "      <td>1720</td>\n",
       "      <td></td>\n",
       "      <td>0.0</td>\n",
       "      <td>0.00</td>\n",
       "      <td>29.77</td>\n",
       "      <td>30.47</td>\n",
       "      <td>9.9</td>\n",
       "      <td>31</td>\n",
       "      <td>10.0</td>\n",
       "    </tr>\n",
       "  </tbody>\n",
       "</table>\n",
       "</div>"
      ],
      "text/plain": [
       "   station_nbr        date tmax tmin tavg depart dewpoint wetbulb heat cool  \\\n",
       "0            1  2012-01-01   52   31   42      M       36      40   23    0   \n",
       "1            2  2012-01-01   48   33   41     16       37      39   24    0   \n",
       "2            3  2012-01-01   55   34   45      9       24      36   20    0   \n",
       "\n",
       "  sunrise sunset     codesum snowfall preciptotal stnpressure sealevel  \\\n",
       "0       -      -  RA FZFG BR        M        0.05       29.78    29.92   \n",
       "1    0716   1626          RA      0.0        0.07       28.82    29.91   \n",
       "2    0735   1720                  0.0        0.00       29.77    30.47   \n",
       "\n",
       "  resultspeed resultdir avgspeed  \n",
       "0         3.6        20      4.6  \n",
       "1         9.1        23     11.3  \n",
       "2         9.9        31     10.0  "
      ]
     },
     "execution_count": 9,
     "metadata": {},
     "output_type": "execute_result"
    }
   ],
   "source": [
    "weather= pd.read_csv('weather.csv')\n",
    "print (weather.shape)\n",
    "weather.head(3)"
   ]
  },
  {
   "cell_type": "code",
   "execution_count": 10,
   "metadata": {
    "collapsed": false
   },
   "outputs": [
    {
     "name": "stdout",
     "output_type": "stream",
     "text": [
      "(4617600, 4)\n"
     ]
    },
    {
     "data": {
      "text/html": [
       "<div style=\"max-height:1000px;max-width:1500px;overflow:auto;\">\n",
       "<table border=\"1\" class=\"dataframe\">\n",
       "  <thead>\n",
       "    <tr style=\"text-align: right;\">\n",
       "      <th></th>\n",
       "      <th>date</th>\n",
       "      <th>store_nbr</th>\n",
       "      <th>item_nbr</th>\n",
       "      <th>units</th>\n",
       "    </tr>\n",
       "  </thead>\n",
       "  <tbody>\n",
       "    <tr>\n",
       "      <th>0</th>\n",
       "      <td>2012-01-01</td>\n",
       "      <td>1</td>\n",
       "      <td>1</td>\n",
       "      <td>0</td>\n",
       "    </tr>\n",
       "    <tr>\n",
       "      <th>1</th>\n",
       "      <td>2012-01-01</td>\n",
       "      <td>1</td>\n",
       "      <td>2</td>\n",
       "      <td>0</td>\n",
       "    </tr>\n",
       "    <tr>\n",
       "      <th>2</th>\n",
       "      <td>2012-01-01</td>\n",
       "      <td>1</td>\n",
       "      <td>3</td>\n",
       "      <td>0</td>\n",
       "    </tr>\n",
       "  </tbody>\n",
       "</table>\n",
       "</div>"
      ],
      "text/plain": [
       "         date  store_nbr  item_nbr  units\n",
       "0  2012-01-01          1         1      0\n",
       "1  2012-01-01          1         2      0\n",
       "2  2012-01-01          1         3      0"
      ]
     },
     "execution_count": 10,
     "metadata": {},
     "output_type": "execute_result"
    }
   ],
   "source": [
    "train = pd.read_csv('train.csv')\n",
    "print (train.shape)\n",
    "train.head(3)"
   ]
  },
  {
   "cell_type": "code",
   "execution_count": 11,
   "metadata": {
    "collapsed": false
   },
   "outputs": [
    {
     "name": "stdout",
     "output_type": "stream",
     "text": [
      "(526917, 3)\n"
     ]
    },
    {
     "data": {
      "text/html": [
       "<div style=\"max-height:1000px;max-width:1500px;overflow:auto;\">\n",
       "<table border=\"1\" class=\"dataframe\">\n",
       "  <thead>\n",
       "    <tr style=\"text-align: right;\">\n",
       "      <th></th>\n",
       "      <th>date</th>\n",
       "      <th>store_nbr</th>\n",
       "      <th>item_nbr</th>\n",
       "    </tr>\n",
       "  </thead>\n",
       "  <tbody>\n",
       "    <tr>\n",
       "      <th>0</th>\n",
       "      <td>2013-04-01</td>\n",
       "      <td>2</td>\n",
       "      <td>1</td>\n",
       "    </tr>\n",
       "    <tr>\n",
       "      <th>1</th>\n",
       "      <td>2013-04-01</td>\n",
       "      <td>2</td>\n",
       "      <td>2</td>\n",
       "    </tr>\n",
       "    <tr>\n",
       "      <th>2</th>\n",
       "      <td>2013-04-01</td>\n",
       "      <td>2</td>\n",
       "      <td>3</td>\n",
       "    </tr>\n",
       "  </tbody>\n",
       "</table>\n",
       "</div>"
      ],
      "text/plain": [
       "         date  store_nbr  item_nbr\n",
       "0  2013-04-01          2         1\n",
       "1  2013-04-01          2         2\n",
       "2  2013-04-01          2         3"
      ]
     },
     "execution_count": 11,
     "metadata": {},
     "output_type": "execute_result"
    }
   ],
   "source": [
    "test = pd.read_csv('test.csv')\n",
    "print (test.shape)\n",
    "test.head(3)"
   ]
  },
  {
   "cell_type": "code",
   "execution_count": 12,
   "metadata": {
    "collapsed": true
   },
   "outputs": [],
   "source": [
    "def fix_date(x):\n",
    "    x = x.split('-')\n",
    "    return date(int(x[0]), int(x[1]), int(x[2]))\n",
    "\n",
    "for df in [weather, test, train]:\n",
    "    df.loc[:, 'date'] = df.loc[:, 'date'].apply(lambda x:fix_date(x))"
   ]
  },
  {
   "cell_type": "code",
   "execution_count": 13,
   "metadata": {
    "collapsed": false
   },
   "outputs": [
    {
     "data": {
      "text/plain": [
       "datetime.timedelta(1029)"
      ]
     },
     "execution_count": 13,
     "metadata": {},
     "output_type": "execute_result"
    }
   ],
   "source": [
    "date(2014,10,26) - date(2012,1,1)"
   ]
  },
  {
   "cell_type": "code",
   "execution_count": 14,
   "metadata": {
    "collapsed": false
   },
   "outputs": [],
   "source": [
    "month_days = {1: 0,\n",
    "            2: 31,\n",
    "            3: 59,\n",
    "            4: 90,\n",
    "            5: 120,\n",
    "            6: 151,\n",
    "            7: 181,\n",
    "            8: 212,\n",
    "            9: 243,\n",
    "            10: 273,\n",
    "            11: 303,\n",
    "            12: 334}\n",
    "\n",
    "def convert_date(x):\n",
    "    year = x.year - 2012\n",
    "    month = month_days[x.month]\n",
    "    day = x.day\n",
    "    \n",
    "    if x < date (2012, 2, 29):\n",
    "        return month + day\n",
    "    else: \n",
    "        return 1 + year*365 + month + day\n",
    "\n",
    "train_dates = train.date.apply(lambda x: convert_date(x))"
   ]
  },
  {
   "cell_type": "code",
   "execution_count": 15,
   "metadata": {
    "collapsed": true
   },
   "outputs": [],
   "source": [
    "test_dates = test.date.apply(lambda x: convert_date(x))"
   ]
  },
  {
   "cell_type": "markdown",
   "metadata": {},
   "source": [
    "### The test and training sets combine to make a full set of sales for 111 items in 45 stores spanning from 01/01/2012 to 10/26/2014. The Test set includes only days after 04/01/2013, within $\\pm$ of a day they characterize as storm"
   ]
  },
  {
   "cell_type": "code",
   "execution_count": 16,
   "metadata": {
    "collapsed": false
   },
   "outputs": [
    {
     "data": {
      "image/png": "[encoded data removed]",
      "text/plain": [
       "<matplotlib.figure.Figure at 0x9cc7400>"
      ]
     },
     "metadata": {},
     "output_type": "display_data"
    }
   ],
   "source": [
    "fig = plt.figure(figsize = (12,8)) \n",
    "ax = fig.add_subplot(1,1,1)\n",
    "colors = brewer2mpl.get_map('BrBG','diverging',4).mpl_colors \n",
    "\n",
    "tr = plt.hist(train_dates, bins = 40, color = colors[3], normed = False, cumulative = False, \n",
    "     histtype = 'stepfilled', alpha = 0.30, label = 'Training Data')\n",
    "te = plt.hist(test_dates, bins = 40, color = colors[0], normed = False, cumulative = False, \n",
    "     histtype = 'stepfilled', alpha = 0.75, label = 'Test Data')\n",
    "for label in ax.get_xticklines():\n",
    "    label.set_visible(False)\n",
    "for label in ax.get_yticklines():\n",
    "    label.set_visible(False)\n",
    "for label in ax.get_yticklabels():\n",
    "    label.set_visible(False)  \n",
    "x = plt.xlim([0,1029])\n",
    "plt.xlabel('Date Offset')\n",
    "plt.ylabel('Counts')\n",
    "ax.legend(loc = 'best')\n",
    "plt.suptitle('Comparing Training Data and Test Data Counts By Date', \n",
    "             fontsize = 14, fontweight = 'bold')\n",
    "plt.show()"
   ]
  },
  {
   "cell_type": "markdown",
   "metadata": {},
   "source": [
    "Key to join weather station with store"
   ]
  },
  {
   "cell_type": "code",
   "execution_count": 17,
   "metadata": {
    "collapsed": false
   },
   "outputs": [
    {
     "data": {
      "text/html": [
       "<div style=\"max-height:1000px;max-width:1500px;overflow:auto;\">\n",
       "<table border=\"1\" class=\"dataframe\">\n",
       "  <thead>\n",
       "    <tr style=\"text-align: right;\">\n",
       "      <th></th>\n",
       "      <th>station_nbr</th>\n",
       "    </tr>\n",
       "    <tr>\n",
       "      <th>store_nbr</th>\n",
       "      <th></th>\n",
       "    </tr>\n",
       "  </thead>\n",
       "  <tbody>\n",
       "    <tr>\n",
       "      <th>1</th>\n",
       "      <td>1</td>\n",
       "    </tr>\n",
       "    <tr>\n",
       "      <th>2</th>\n",
       "      <td>14</td>\n",
       "    </tr>\n",
       "    <tr>\n",
       "      <th>3</th>\n",
       "      <td>7</td>\n",
       "    </tr>\n",
       "    <tr>\n",
       "      <th>4</th>\n",
       "      <td>9</td>\n",
       "    </tr>\n",
       "    <tr>\n",
       "      <th>5</th>\n",
       "      <td>12</td>\n",
       "    </tr>\n",
       "  </tbody>\n",
       "</table>\n",
       "</div>"
      ],
      "text/plain": [
       "           station_nbr\n",
       "store_nbr             \n",
       "1                    1\n",
       "2                   14\n",
       "3                    7\n",
       "4                    9\n",
       "5                   12"
      ]
     },
     "execution_count": 17,
     "metadata": {},
     "output_type": "execute_result"
    }
   ],
   "source": [
    "key= pd.read_csv('key.csv', index_col='store_nbr')\n",
    "key.head()"
   ]
  },
  {
   "cell_type": "markdown",
   "metadata": {},
   "source": [
    "Sample submission - this is what the final output needs to look like "
   ]
  },
  {
   "cell_type": "code",
   "execution_count": 18,
   "metadata": {
    "collapsed": false
   },
   "outputs": [
    {
     "data": {
      "text/html": [
       "<div style=\"max-height:1000px;max-width:1500px;overflow:auto;\">\n",
       "<table border=\"1\" class=\"dataframe\">\n",
       "  <thead>\n",
       "    <tr style=\"text-align: right;\">\n",
       "      <th></th>\n",
       "      <th>units</th>\n",
       "    </tr>\n",
       "    <tr>\n",
       "      <th>id</th>\n",
       "      <th></th>\n",
       "    </tr>\n",
       "  </thead>\n",
       "  <tbody>\n",
       "    <tr>\n",
       "      <th>2_1_2013-04-01</th>\n",
       "      <td>0</td>\n",
       "    </tr>\n",
       "    <tr>\n",
       "      <th>2_2_2013-04-01</th>\n",
       "      <td>0</td>\n",
       "    </tr>\n",
       "    <tr>\n",
       "      <th>2_3_2013-04-01</th>\n",
       "      <td>0</td>\n",
       "    </tr>\n",
       "    <tr>\n",
       "      <th>2_4_2013-04-01</th>\n",
       "      <td>0</td>\n",
       "    </tr>\n",
       "    <tr>\n",
       "      <th>2_5_2013-04-01</th>\n",
       "      <td>0</td>\n",
       "    </tr>\n",
       "  </tbody>\n",
       "</table>\n",
       "</div>"
      ],
      "text/plain": [
       "                units\n",
       "id                   \n",
       "2_1_2013-04-01      0\n",
       "2_2_2013-04-01      0\n",
       "2_3_2013-04-01      0\n",
       "2_4_2013-04-01      0\n",
       "2_5_2013-04-01      0"
      ]
     },
     "execution_count": 18,
     "metadata": {},
     "output_type": "execute_result"
    }
   ],
   "source": [
    "sample_submit = pd.read_csv('sampleSubmission.csv', index_col = 'id')\n",
    "sample_submit.head()"
   ]
  },
  {
   "cell_type": "markdown",
   "metadata": {},
   "source": [
    "# Initial Prep of datasets"
   ]
  },
  {
   "cell_type": "markdown",
   "metadata": {},
   "source": [
    "- Join key with test and training set\n",
    "- Add store_item_date id to test set\n",
    "- Convert dates to python dates"
   ]
  },
  {
   "cell_type": "code",
   "execution_count": 19,
   "metadata": {
    "collapsed": true
   },
   "outputs": [],
   "source": [
    "train = train.merge(key, left_on='store_nbr', right_index=True)\n",
    "test = test.merge(key, left_on='store_nbr', right_index=True)"
   ]
  },
  {
   "cell_type": "code",
   "execution_count": 20,
   "metadata": {
    "collapsed": true
   },
   "outputs": [],
   "source": [
    "test.loc[:, 'id']= test.store_nbr.apply(lambda x:str(x))+ '_'+\\\n",
    "                   test.item_nbr.apply(lambda x:str(x)) + '_' +\\\n",
    "                   test.date.apply(lambda x: str(x))"
   ]
  },
  {
   "cell_type": "markdown",
   "metadata": {},
   "source": [
    "# Plot of Station counts by store"
   ]
  },
  {
   "cell_type": "code",
   "execution_count": 21,
   "metadata": {
    "collapsed": false
   },
   "outputs": [],
   "source": [
    "station_counts=train[['station_nbr', 'store_nbr']].drop_duplicates().groupby('station_nbr').count()\n",
    "station_counts=[station_counts.loc[c][0] if c in station_counts.index else 0 for c in np.arange(1,21,1)]"
   ]
  },
  {
   "cell_type": "code",
   "execution_count": 22,
   "metadata": {
    "collapsed": false
   },
   "outputs": [
    {
     "data": {
      "image/png": "[encoded data removed]",
      "text/plain": [
       "<matplotlib.figure.Figure at 0x58c4240>"
      ]
     },
     "metadata": {},
     "output_type": "display_data"
    }
   ],
   "source": [
    "fig = plt.figure(figsize = (12,8))\n",
    "ax = plt.subplot(111)\n",
    "\n",
    "x = np.arange(1,21,1)\n",
    "width = 0.75\n",
    "\n",
    "colors = brewer2mpl.get_map('BrBG', 'diverging', 4).mpl_colors\n",
    "\n",
    "bar = plt.bar(x, station_counts, width, color = colors[3])\n",
    "\n",
    "for label in ax.get_xticklines():\n",
    "    label.set_visible(False)\n",
    "\n",
    "for label in ax.get_yticklines():\n",
    "    label.set_visible(False)\n",
    "\n",
    "plt.xticks(x+width/2,x, rotation = 30, fontsize = 12)\n",
    "plt.xlabel('Station #')\n",
    "plt.ylabel('Number of Associates Stores')\n",
    "plt.suptitle('Number of Stores by Station', \n",
    "             fontsize = 14, fontweight = 'bold', color = '#262626')\n",
    "x = plt.xlim([1, 21])\n",
    "plt.show()"
   ]
  },
  {
   "cell_type": "markdown",
   "metadata": {},
   "source": [
    "# Station 5 is not associated with any stores so we can throw it away"
   ]
  },
  {
   "cell_type": "code",
   "execution_count": 23,
   "metadata": {
    "collapsed": false
   },
   "outputs": [
    {
     "name": "stdout",
     "output_type": "stream",
     "text": [
      "Int64Index([1, 2, 3, 4, 6, 7, 8, 9, 10, 11, 12, 13, 14, 15, 16, 17, 18, 19, 20], dtype='int64')\n"
     ]
    }
   ],
   "source": [
    "print (test[['date', 'station_nbr']].groupby('station_nbr').count().index)"
   ]
  },
  {
   "cell_type": "code",
   "execution_count": 24,
   "metadata": {
    "collapsed": false
   },
   "outputs": [
    {
     "name": "stdout",
     "output_type": "stream",
     "text": [
      "Int64Index([1, 2, 3, 4, 5, 6, 7, 8, 9, 10, 11, 12, 13, 14, 15, 16, 17, 18, 19, 20], dtype='int64')\n"
     ]
    }
   ],
   "source": [
    "print (train[['date', 'station_nbr']].groupby('station_nbr').count().index)"
   ]
  },
  {
   "cell_type": "code",
   "execution_count": 25,
   "metadata": {
    "collapsed": true
   },
   "outputs": [],
   "source": [
    "train = train[train.station_nbr!=5]\n",
    "weather = weather[weather.station_nbr!=5]"
   ]
  },
  {
   "cell_type": "markdown",
   "metadata": {},
   "source": [
    "# Weather Data Set\n",
    "\n",
    "There are 'T' values for trace, meaning small amount. We'll replace that with the half the smallest non-zero value for that column."
   ]
  },
  {
   "cell_type": "markdown",
   "metadata": {},
   "source": [
    "- 'Departure' is missing 56% of values. This may be unusable but if we can get data from surrounding days we can recover a lot of average temperatures.\n",
    "- 'Snowfall' is missing 35% of values. This could be a key column so we should take more care in imputing it.\n",
    "- The others are missing 8% or fewer."
   ]
  },
  {
   "cell_type": "code",
   "execution_count": null,
   "metadata": {
    "collapsed": true
   },
   "outputs": [],
   "source": []
  },
  {
   "cell_type": "markdown",
   "metadata": {},
   "source": [
    "### We will use the following steps to impute as many missing values as possible. Each step fills in some missing values, but others remain missing. For those still missing, we loosen the restrictions. Since 'Depature' and 'Snowfall' are missing so many values (35% and 56%, respectively), we'll look at those seperately"
   ]
  },
  {
   "cell_type": "markdown",
   "metadata": {},
   "source": [
    "* Calculate the average value for that measure within a $\\pm$ 3 day window for that station.\n",
    "* Calculate the average value for that measure within a $\\pm$ 5 day window for that station.\n",
    "* Calculate the average value for that measure within a $\\pm$ 15 day window for that station.\n",
    "* If that still fails, calculate the store average for that month and day of week for all years.\n",
    "* At this point, we determine that we cannot reasonable replace the missing value and we leave it as null."
   ]
  },
  {
   "cell_type": "markdown",
   "metadata": {},
   "source": [
    "### Codesum T is just a code (not trace). We will not get the minimum for snowfall and preciptotal and replace 'T' with that value."
   ]
  },
  {
   "cell_type": "code",
   "execution_count": 34,
   "metadata": {
    "collapsed": true
   },
   "outputs": [],
   "source": [
    "for col in ['snowfall','preciptotal']:\n",
    "    # temporarily replace with -1\n",
    "    v = weather.loc[:, col].apply(lambda x: -1. if str(x).strip() in ['M', 'T'] else float(x))\n",
    "    # replace 'T' with the minimum non-zero value\n",
    "    weather.loc[:, col] = weather.loc[:, col].apply(lambda x: v[v > 0].min() if str(x).strip() == 'T' else x)"
   ]
  },
  {
   "cell_type": "code",
   "execution_count": 36,
   "metadata": {
    "collapsed": false
   },
   "outputs": [
    {
     "name": "stdout",
     "output_type": "stream",
     "text": [
      "0\n",
      "0\n"
     ]
    }
   ],
   "source": [
    "print (len(weather[weather.snowfall == 'T']))\n",
    "print (len(weather[weather.preciptotal == 'T']))"
   ]
  },
  {
   "cell_type": "code",
   "execution_count": 37,
   "metadata": {
    "collapsed": true
   },
   "outputs": [],
   "source": [
    "icols = ['station_nbr']"
   ]
  },
  {
   "cell_type": "code",
   "execution_count": 38,
   "metadata": {
    "collapsed": false
   },
   "outputs": [],
   "source": [
    "icols.extend(['tavg', 'resultdir', 'stnpressure', 'tmin', 'wetbulb', 'dewpoint', 'avgspeed', 'tmax', 'sealevel', 'heat', 'preciptotal', 'resultspeed', 'cool'])"
   ]
  },
  {
   "cell_type": "code",
   "execution_count": 39,
   "metadata": {
    "collapsed": false
   },
   "outputs": [
    {
     "name": "stdout",
     "output_type": "stream",
     "text": [
      "['station_nbr', 'tavg', 'resultdir', 'stnpressure', 'tmin', 'wetbulb', 'dewpoint', 'avgspeed', 'tmax', 'sealevel', 'heat', 'preciptotal', 'resultspeed', 'cool']\n"
     ]
    }
   ],
   "source": [
    "print (icols)"
   ]
  },
  {
   "cell_type": "code",
   "execution_count": 40,
   "metadata": {
    "collapsed": false
   },
   "outputs": [],
   "source": [
    "for c in [c for c in icols if c != 'store_nbr']:\n",
    "    weather.loc[:, c] = weather.loc[:, c].apply(lambda x: float('nan') if x == 'M' else float(x))"
   ]
  },
  {
   "cell_type": "code",
   "execution_count": 41,
   "metadata": {
    "collapsed": true
   },
   "outputs": [],
   "source": [
    "# pm_weather takes a row from a df, a dict w\n",
    "# and number of days offset, and adds a row to d\n",
    "# for each date and corresponding values from the \n",
    "# df row\n",
    "# ultimately, this lets us average the values from\n",
    "# a window around a target day\n",
    "\n",
    "def pm_weather(row, w, d, icols):\n",
    "    #current date\n",
    "    currdate = row.date\n",
    "    \n",
    "    # all values for the columns we want\n",
    "    vals = list(row.loc[icols].values)\n",
    "    \n",
    "    n = len(w)\n",
    "    # make a row for +/- 3 days from this current date/station\n",
    "    for day in range(-d, d+1):\n",
    "        w[day + n + d]= [currdate + timedelta(days= day)]\n",
    "        w[day + n + d].extend(vals)\n",
    "    return w"
   ]
  },
  {
   "cell_type": "code",
   "execution_count": null,
   "metadata": {
    "collapsed": true
   },
   "outputs": [],
   "source": [
    "# make a df of all +/- 3 day windows\n",
    "def impute_vals(weather, window):\n",
    "    wimpute={}\n",
    "    \n",
    "    for i in weather.index:\n",
    "        wimpute= pm_weather(weather.loc[i, :], wimpute, 3, icols)\n",
    "    impute = DataFrame.from_dict(wimpute, orient='index')\n",
    "    wcols = ['date']\n",
    "    wcols.extend(icols)\n",
    "    impute.columns= wcols\n",
    "    \n",
    "    station_date_means= impute.groupby(['date','station_nbr']).mean()\n",
    "    #for each column to impute\n",
    "    for col in list(missin)"
   ]
  }
 ],
 "metadata": {
  "kernelspec": {
   "display_name": "Python 3",
   "language": "python",
   "name": "python3"
  },
  "language_info": {
   "codemirror_mode": {
    "name": "ipython",
    "version": 3
   },
   "file_extension": ".py",
   "mimetype": "text/x-python",
   "name": "python",
   "nbconvert_exporter": "python",
   "pygments_lexer": "ipython3",
   "version": "3.4.1"
  }
 },
 "nbformat": 4,
 "nbformat_minor": 0
}
